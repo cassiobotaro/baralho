{
 "cells": [
  {
   "cell_type": "markdown",
   "id": "05b19100-d243-4862-a49e-78f2f6feafd9",
   "metadata": {},
   "source": [
    "# 1. O modelo de dados do Go\n",
    "\n",
    "## 1.2. Um baralho gopher\n",
    "\n",
    "### 1.2.1. Estrutura `Carta`\n",
    "\n",
    "`Carta` é um estrutura (`struct`) que representa uma carta de baralho."
   ]
  },
  {
   "cell_type": "code",
   "execution_count": 1,
   "id": "8b684c6b-e0ff-4a4d-84fb-24cffc768a2a",
   "metadata": {},
   "outputs": [],
   "source": [
    "type Carta struct {\n",
    "\tValor string\n",
    "\tNaipe string\n",
    "}"
   ]
  },
  {
   "cell_type": "markdown",
   "id": "37d76717-bdc2-4ab2-9256-ce7f0beab32a",
   "metadata": {},
   "source": [
    "O \"sete belo\" é conhecido como \"beer card\" nos EUA:"
   ]
  },
  {
   "cell_type": "code",
   "execution_count": 2,
   "id": "33d1b2a9-210c-4a5d-9014-2b16430c37c9",
   "metadata": {},
   "outputs": [
    {
     "name": "stdout",
     "output_type": "stream",
     "text": [
      "7 ouros\n",
      "{7 ouros}\n"
     ]
    }
   ],
   "source": [
    "var cartaDaCerveja = Carta{Valor: \"7\", Naipe: \"ouros\"}\n",
    "%%\n",
    "fmt.Println(cartaDaCerveja.Valor, cartaDaCerveja.Naipe)\n",
    "fmt.Println(cartaDaCerveja)"
   ]
  },
  {
   "cell_type": "markdown",
   "id": "ffc6a84e-0422-499e-8fea-abd935f27129",
   "metadata": {},
   "source": [
    "Agora podemos vincular o método `String` à estrutura:"
   ]
  },
  {
   "cell_type": "code",
   "execution_count": 3,
   "id": "4ccb4001-c309-4b9b-b20d-f66184119264",
   "metadata": {},
   "outputs": [],
   "source": [
    "func (carta Carta) String() string {\n",
    "\treturn fmt.Sprintf(\"%s de %s\", carta.Valor, carta.Naipe)\n",
    "}"
   ]
  },
  {
   "cell_type": "code",
   "execution_count": 4,
   "id": "ffea1926-95be-42c6-88a8-ac2013272783",
   "metadata": {},
   "outputs": [
    {
     "name": "stdout",
     "output_type": "stream",
     "text": [
      "7 de ouros\n"
     ]
    }
   ],
   "source": [
    "%%\n",
    "fmt.Println(cartaDaCerveja)"
   ]
  },
  {
   "cell_type": "markdown",
   "id": "cc89347c-c251-40f1-8cf6-e54ea7c5db8a",
   "metadata": {},
   "source": [
    "### 1.2.2. Estrutura Baralho\n",
    "\n",
    "Baralho é uma classe que representa um \"baralho francês\", o tipo mais comum no Brasil, com 52 cartas em 4 naipes de 13 cartas."
   ]
  },
  {
   "cell_type": "code",
   "execution_count": 5,
   "id": "5def739b-7daa-4428-b6be-31ce6b99b69d",
   "metadata": {},
   "outputs": [],
   "source": [
    "type Baralho struct {\n",
    "\tcartas []Carta\n",
    "}\n",
    "\n",
    "func Naipes() []string {\n",
    "\treturn []string{\"copas\", \"ouros\", \"paus\", \"espadas\"}\n",
    "}\n",
    "\n",
    "func Valores() []string {\n",
    "\treturn []string{\"2\", \"3\", \"4\", \"5\", \"6\", \"7\", \"8\", \"9\", \"10\", \"J\", \"K\", \"Q\", \"A\"}\n",
    "}\n",
    "\n",
    "func NovoBaralho() *Baralho {\n",
    "\tcartas := make([]Carta, 0, 52)\n",
    "\tfor _, naipe := range Naipes() {\n",
    "\t\tfor _, valor := range Valores() {\n",
    "\t\t\tcartas = append(cartas, Carta{Naipe: naipe, Valor: valor})\n",
    "\t\t}\n",
    "\t}\n",
    "\treturn &Baralho{cartas}\n",
    "}\n",
    "\n",
    "func (baralho Baralho) Len() int {\n",
    "\treturn len(baralho.cartas)\n",
    "}\n",
    "\n",
    "func (baralho Baralho) NaPosição(i int) Carta {\n",
    "\treturn baralho.cartas[i]\n",
    "}\n",
    "\n",
    "func (baralho Baralho) Fatiar(de, até int) []Carta {\n",
    "\treturn baralho.cartas[de:até]\n",
    "}\n",
    "\n",
    "func (baralho Baralho) Contém(carta Carta) bool{\n",
    "    return slices.Contains(baralho.cartas, carta)\n",
    "}"
   ]
  },
  {
   "cell_type": "code",
   "execution_count": 6,
   "id": "a76eb22d-bdb6-4ebf-992e-05319c2676fc",
   "metadata": {},
   "outputs": [
    {
     "name": "stdout",
     "output_type": "stream",
     "text": [
      "52\n",
      "5 de copas\n",
      "[2 de copas 3 de copas 4 de copas]\n",
      "true\n"
     ]
    }
   ],
   "source": [
    "var (\n",
    " baralho = NovoBaralho()\n",
    ")\n",
    "%%\n",
    "fmt.Println(baralho.Len())\n",
    "fmt.Println(baralho.NaPosição(3))\n",
    "fmt.Println(baralho.Fatiar(0, 3))\n",
    "\n",
    "fmt.Println(baralho.Contém(Carta{\"Q\", \"espadas\"}))"
   ]
  },
  {
   "cell_type": "markdown",
   "id": "e5a75685-ab80-43c3-8848-8149022cbdf6",
   "metadata": {},
   "source": [
    "Notas: \n",
    "* Em Go não é possivel definir um método para fazer len(baralho), como o `__len__` do Python. Por isso foi criado o `Len`.\n",
    "* Os métodos `NaPosição` e `Fatiar` são substitutos ao `__getitem__`\n",
    "* O método `Contém` é substituto ao `in`."
   ]
  },
  {
   "cell_type": "markdown",
   "id": "1f831ef4-1a1b-45de-a73f-64c4b244750e",
   "metadata": {},
   "source": [
    "#### Exercício\n",
    "\n",
    "Crie uma carta que não existe, e verifique que o `Contém` devolve `false`"
   ]
  },
  {
   "cell_type": "code",
   "execution_count": 7,
   "id": "184897f5-5378-4b87-8c47-f635f9501e92",
   "metadata": {},
   "outputs": [
    {
     "name": "stdout",
     "output_type": "stream",
     "text": [
      "false\n"
     ]
    }
   ],
   "source": [
    "%%\n",
    "fmt.Println(baralho.Contém(Carta{\"H\", \"espadas\"}))"
   ]
  },
  {
   "cell_type": "markdown",
   "id": "b64ef476-f20f-4758-8203-ae35fa5be8db",
   "metadata": {},
   "source": [
    "O laço for sabe lidar com sequências:"
   ]
  },
  {
   "cell_type": "code",
   "execution_count": 8,
   "id": "ab7dfe90-92fc-4b42-90b4-382dc05b3c63",
   "metadata": {},
   "outputs": [],
   "source": [
    "func (baralho Baralho) Cartas()iter.Seq[Carta]{\n",
    "    return slices.Values(baralho.cartas)\n",
    "}"
   ]
  },
  {
   "cell_type": "markdown",
   "id": "fdb47b08-00dc-4968-b82e-4378fc7b2350",
   "metadata": {},
   "source": [
    "Nota: O nome ser `Cartas` é para ser idiomático. https://go.dev/doc/effective_go#Getters"
   ]
  },
  {
   "cell_type": "code",
   "execution_count": 9,
   "id": "8d998664-3370-490c-8bb7-c099ea0d08b3",
   "metadata": {},
   "outputs": [
    {
     "name": "stdout",
     "output_type": "stream",
     "text": [
      "2 de copas\n",
      "3 de copas\n",
      "4 de copas\n",
      "5 de copas\n",
      "6 de copas\n",
      "7 de copas\n",
      "8 de copas\n",
      "9 de copas\n",
      "10 de copas\n",
      "J de copas\n",
      "K de copas\n",
      "Q de copas\n",
      "A de copas\n",
      "2 de ouros\n",
      "3 de ouros\n",
      "4 de ouros\n",
      "5 de ouros\n",
      "6 de ouros\n",
      "7 de ouros\n",
      "8 de ouros\n",
      "9 de ouros\n",
      "10 de ouros\n",
      "J de ouros\n",
      "K de ouros\n",
      "Q de ouros\n",
      "A de ouros\n",
      "2 de paus\n",
      "3 de paus\n",
      "4 de paus\n",
      "5 de paus\n",
      "6 de paus\n",
      "7 de paus\n",
      "8 de paus\n",
      "9 de paus\n",
      "10 de paus\n",
      "J de paus\n",
      "K de paus\n",
      "Q de paus\n",
      "A de paus\n",
      "2 de espadas\n",
      "3 de espadas\n",
      "4 de espadas\n",
      "5 de espadas\n",
      "6 de espadas\n",
      "7 de espadas\n",
      "8 de espadas\n",
      "9 de espadas\n",
      "10 de espadas\n",
      "J de espadas\n",
      "K de espadas\n",
      "Q de espadas\n",
      "A de espadas\n"
     ]
    }
   ],
   "source": [
    "%%\n",
    "for carta := range baralho.Cartas(){\n",
    "    fmt.Println(carta)\n",
    "}"
   ]
  },
  {
   "cell_type": "markdown",
   "id": "c5f562a9-9464-432e-8392-b03a23381b1e",
   "metadata": {},
   "source": [
    "Para escolher um elemento na sequência de forma aleatória:"
   ]
  },
  {
   "cell_type": "code",
   "execution_count": 10,
   "id": "e4aafe05-e6ac-454c-817a-77815d76db8d",
   "metadata": {},
   "outputs": [
    {
     "name": "stdout",
     "output_type": "stream",
     "text": [
      "3 de paus\n"
     ]
    }
   ],
   "source": [
    "%%\n",
    "posiçãoAleatória := rand.IntN(baralho.Len())\n",
    "fmt.Println(baralho.NaPosição(posiçãoAleatória))"
   ]
  },
  {
   "cell_type": "markdown",
   "id": "81521713-b1dd-448a-9b4b-a9871dd7cc4e",
   "metadata": {},
   "source": [
    "Mas o embaralhamento não funciona. Resolver isso será um exercício logo mais:"
   ]
  },
  {
   "cell_type": "code",
   "execution_count": 11,
   "id": "9399cb40-ed85-4ee3-9436-f03000c78c35",
   "metadata": {},
   "outputs": [],
   "source": [
    "// rand.Shuffle(baralho.Len(), func(i, j int) {\n",
    "//\t\ttmp := baralho.NaPosição(i)\n",
    "//\t\tbaralho.ColocarNaPosição(i, baralho.NaPosição(j))\n",
    "//\t\tbaralho.ColocarNaPosição(j, tmp)\n",
    "//\t})"
   ]
  },
  {
   "cell_type": "code",
   "execution_count": 12,
   "id": "0ab9bbce-063f-47a0-8f0a-d1cd2841ed62",
   "metadata": {},
   "outputs": [
    {
     "name": "stdout",
     "output_type": "stream",
     "text": [
      "10 de copas\n",
      "10 de espadas\n",
      "10 de ouros\n",
      "10 de paus\n",
      "2 de copas\n",
      "2 de espadas\n",
      "2 de ouros\n",
      "2 de paus\n",
      "3 de copas\n",
      "3 de espadas\n",
      "3 de ouros\n",
      "3 de paus\n",
      "4 de copas\n",
      "4 de espadas\n",
      "4 de ouros\n",
      "4 de paus\n",
      "5 de copas\n",
      "5 de espadas\n",
      "5 de ouros\n",
      "5 de paus\n",
      "6 de copas\n",
      "6 de espadas\n",
      "6 de ouros\n",
      "6 de paus\n",
      "7 de copas\n",
      "7 de espadas\n",
      "7 de ouros\n",
      "7 de paus\n",
      "8 de copas\n",
      "8 de espadas\n",
      "8 de ouros\n",
      "8 de paus\n",
      "9 de copas\n",
      "9 de espadas\n",
      "9 de ouros\n",
      "9 de paus\n",
      "A de copas\n",
      "A de espadas\n",
      "A de ouros\n",
      "A de paus\n",
      "J de copas\n",
      "J de espadas\n",
      "J de ouros\n",
      "J de paus\n",
      "K de copas\n",
      "K de espadas\n",
      "K de ouros\n",
      "K de paus\n",
      "Q de copas\n",
      "Q de espadas\n",
      "Q de ouros\n",
      "Q de paus\n"
     ]
    }
   ],
   "source": [
    "%%\n",
    "ordenado := slices.SortedFunc(baralho.Cartas(),  func(a, b Carta) int {\n",
    "    if n := strings.Compare(a.Valor, b.Valor); n!= 0 {\n",
    "        return n\n",
    "    }\n",
    "    return strings.Compare(a.Naipe, b.Naipe)\n",
    "})\n",
    "for _, carta := range ordenado {\n",
    "    fmt.Println(carta)\n",
    "}"
   ]
  },
  {
   "cell_type": "markdown",
   "id": "b6a9f034-0e6a-4483-abb2-0c9adcb54326",
   "metadata": {},
   "source": [
    "Podemos criar uma função que estabelece um critério de ordenação melhor:"
   ]
  },
  {
   "cell_type": "code",
   "execution_count": 13,
   "id": "82fca2aa-0e3d-42c7-bf59-e4d847fa9b6c",
   "metadata": {},
   "outputs": [],
   "source": [
    "func ordenaçãoEspadasMaior(a, b Carta) int {\n",
    "\tvaloresDoNaipe := map[string]int{\"espadas\": 3, \"copas\": 2, \"ouros\": 1, \"paus\": 0}\n",
    "\tvalores := Valores()\n",
    "\n",
    "\tindiceDoValorA := slices.Index(valores, a.Valor)\n",
    "\tvalorA := indiceDoValorA*len(valoresDoNaipe) + valoresDoNaipe[a.Naipe]\n",
    "    \n",
    "    indiceDoValorB := slices.Index(valores, b.Valor)\n",
    "\tvalorB := indiceDoValorB*len(valoresDoNaipe) + valoresDoNaipe[b.Naipe]\n",
    "\n",
    "\treturn cmp.Compare(valorA, valorB)\n",
    "}"
   ]
  },
  {
   "cell_type": "code",
   "execution_count": 14,
   "id": "77d27394-c481-455f-9ee8-37a93b281710",
   "metadata": {},
   "outputs": [
    {
     "name": "stdout",
     "output_type": "stream",
     "text": [
      "2 de paus\n",
      "2 de ouros\n",
      "2 de copas\n",
      "2 de espadas\n",
      "3 de paus\n",
      "3 de ouros\n",
      "3 de copas\n",
      "3 de espadas\n",
      "4 de paus\n",
      "4 de ouros\n",
      "4 de copas\n",
      "4 de espadas\n",
      "5 de paus\n",
      "5 de ouros\n",
      "5 de copas\n",
      "5 de espadas\n",
      "6 de paus\n",
      "6 de ouros\n",
      "6 de copas\n",
      "6 de espadas\n",
      "7 de paus\n",
      "7 de ouros\n",
      "7 de copas\n",
      "7 de espadas\n",
      "8 de paus\n",
      "8 de ouros\n",
      "8 de copas\n",
      "8 de espadas\n",
      "9 de paus\n",
      "9 de ouros\n",
      "9 de copas\n",
      "9 de espadas\n",
      "10 de paus\n",
      "10 de ouros\n",
      "10 de copas\n",
      "10 de espadas\n",
      "J de paus\n",
      "J de ouros\n",
      "J de copas\n",
      "J de espadas\n",
      "K de paus\n",
      "K de ouros\n",
      "K de copas\n",
      "K de espadas\n",
      "Q de paus\n",
      "Q de ouros\n",
      "Q de copas\n",
      "Q de espadas\n",
      "A de paus\n",
      "A de ouros\n",
      "A de copas\n",
      "A de espadas\n"
     ]
    }
   ],
   "source": [
    "%%\n",
    "for _, carta := range slices.SortedFunc(baralho.Cartas(),  ordenaçãoEspadasMaior) {\n",
    "    fmt.Println(carta)\n",
    "}"
   ]
  },
  {
   "cell_type": "markdown",
   "id": "9379348e-83b5-403f-b8ce-5036f283fbce",
   "metadata": {},
   "source": [
    "#### Exercício\n",
    "\n",
    "Defina uma nova ordem que classifique as cartas primeiro por naipe e depois por valor, de forma que todos os paus venham primeiro, seguidos por todos os ouros, etc."
   ]
  },
  {
   "cell_type": "code",
   "execution_count": 15,
   "id": "4412961c-9ffc-4ae1-8924-520e97f32705",
   "metadata": {},
   "outputs": [],
   "source": [
    "func ordenaçãoNaipesPrimeiro(a, b Carta) int {\n",
    "\tvaloresDoNaipe := map[string]int{\"espadas\": 3, \"copas\": 2, \"ouros\": 1, \"paus\": 0}\n",
    "\tvalores := Valores()\n",
    "\n",
    "\tindiceDoValorA := slices.Index(valores, a.Valor)\n",
    "\tvalorA := valoresDoNaipe[a.Naipe]*len(valores) + indiceDoValorA\n",
    "\n",
    "    indiceDoValorB := slices.Index(valores, b.Valor)\n",
    "\tvalorB := valoresDoNaipe[b.Naipe]*len(valores) + indiceDoValorB\n",
    "\n",
    "\treturn cmp.Compare(valorA, valorB)\n",
    "}"
   ]
  },
  {
   "cell_type": "code",
   "execution_count": 16,
   "id": "b3ca04e9-c6a2-456a-bad6-f09b988bcb15",
   "metadata": {},
   "outputs": [
    {
     "name": "stdout",
     "output_type": "stream",
     "text": [
      "2 de paus\n",
      "3 de paus\n",
      "4 de paus\n",
      "5 de paus\n",
      "6 de paus\n",
      "7 de paus\n",
      "8 de paus\n",
      "9 de paus\n",
      "10 de paus\n",
      "J de paus\n",
      "K de paus\n",
      "Q de paus\n",
      "A de paus\n",
      "2 de ouros\n",
      "3 de ouros\n",
      "4 de ouros\n",
      "5 de ouros\n",
      "6 de ouros\n",
      "7 de ouros\n",
      "8 de ouros\n",
      "9 de ouros\n",
      "10 de ouros\n",
      "J de ouros\n",
      "K de ouros\n",
      "Q de ouros\n",
      "A de ouros\n",
      "2 de copas\n",
      "3 de copas\n",
      "4 de copas\n",
      "5 de copas\n",
      "6 de copas\n",
      "7 de copas\n",
      "8 de copas\n",
      "9 de copas\n",
      "10 de copas\n",
      "J de copas\n",
      "K de copas\n",
      "Q de copas\n",
      "A de copas\n",
      "2 de espadas\n",
      "3 de espadas\n",
      "4 de espadas\n",
      "5 de espadas\n",
      "6 de espadas\n",
      "7 de espadas\n",
      "8 de espadas\n",
      "9 de espadas\n",
      "10 de espadas\n",
      "J de espadas\n",
      "K de espadas\n",
      "Q de espadas\n",
      "A de espadas\n"
     ]
    }
   ],
   "source": [
    "%%\n",
    "for _, carta := range slices.SortedFunc(baralho.Cartas(),  ordenaçãoNaipesPrimeiro) {\n",
    "    fmt.Println(carta)\n",
    "}"
   ]
  },
  {
   "cell_type": "markdown",
   "id": "042fa6f0-22e0-4b26-8f4b-04b759f896a3",
   "metadata": {},
   "source": [
    "#### Exercício\n",
    "\n",
    "Escreva um método chamado `ColocarNaPosição` que pega um baralho, um índice e uma carta e atribui a carta ao baralho na posição dada.\n",
    "\n",
    "\"Então tenter embaralhar usando `rand.Shuffle`.\""
   ]
  },
  {
   "cell_type": "code",
   "execution_count": 17,
   "id": "de347f54-0f19-4581-9f49-0e118683598a",
   "metadata": {},
   "outputs": [],
   "source": [
    "func (baralho *Baralho) ColocarNaPosição(i int, carta Carta) {\n",
    "\tbaralho.cartas[i] = carta\n",
    "}"
   ]
  },
  {
   "cell_type": "code",
   "execution_count": 18,
   "id": "af724979-2110-4af2-a603-4c246abfb0f5",
   "metadata": {},
   "outputs": [
    {
     "name": "stdout",
     "output_type": "stream",
     "text": [
      "K de copas\n",
      "6 de paus\n",
      "Q de paus\n",
      "4 de ouros\n",
      "5 de paus\n",
      "8 de copas\n",
      "10 de paus\n",
      "9 de ouros\n",
      "6 de espadas\n",
      "8 de espadas\n",
      "Q de ouros\n",
      "10 de espadas\n",
      "5 de ouros\n",
      "9 de espadas\n",
      "J de ouros\n",
      "3 de copas\n",
      "5 de espadas\n",
      "5 de copas\n",
      "3 de espadas\n",
      "8 de paus\n",
      "2 de paus\n",
      "4 de espadas\n",
      "J de espadas\n",
      "9 de paus\n",
      "A de espadas\n",
      "6 de copas\n",
      "2 de ouros\n",
      "9 de copas\n",
      "K de ouros\n",
      "2 de copas\n",
      "8 de ouros\n",
      "10 de copas\n",
      "4 de copas\n",
      "3 de ouros\n",
      "3 de paus\n",
      "2 de espadas\n",
      "A de copas\n",
      "4 de paus\n",
      "J de paus\n",
      "7 de espadas\n",
      "7 de ouros\n",
      "10 de ouros\n",
      "A de paus\n",
      "Q de copas\n",
      "K de paus\n",
      "K de espadas\n",
      "7 de paus\n",
      "J de copas\n",
      "A de ouros\n",
      "Q de espadas\n",
      "6 de ouros\n",
      "7 de copas\n"
     ]
    }
   ],
   "source": [
    "%%\n",
    "rand.Shuffle(baralho.Len(), func(i, j int) {\n",
    "    tmp := baralho.NaPosição(i)\n",
    "    baralho.ColocarNaPosição(i, baralho.NaPosição(j))\n",
    "    baralho.ColocarNaPosição(j, tmp)\n",
    "})\n",
    "for carta := range baralho.Cartas() {\n",
    "    fmt.Println(carta)\n",
    "}"
   ]
  },
  {
   "cell_type": "markdown",
   "id": "d48438df-6ec9-4552-bf93-346ae30da7ce",
   "metadata": {},
   "source": [
    "#### Exercício bônus\n",
    "\n",
    "A operação de fatiamento `x[a:b]` normalmente devolve uma instância da mesma classe de `x`.\n",
    "\n",
    "Hoje a função Fatiar devolve uma lista de cartas `[]Card` ao invés de um `Baralho`. Como modificar isto?\n",
    "\n",
    "Será necessário alterar `Baralho` para fazer isso acontecer? Como?"
   ]
  },
  {
   "cell_type": "code",
   "execution_count": 19,
   "id": "a6fb4351-4b81-46e3-9024-f43e670110ac",
   "metadata": {},
   "outputs": [
    {
     "name": "stdout",
     "output_type": "stream",
     "text": [
      "Tipo: *main.Baralho\n",
      "9 de ouros\n",
      "10 de ouros\n",
      "3 de espadas\n",
      "5 de copas\n",
      "K de espadas\n"
     ]
    }
   ],
   "source": [
    "func BaralhoAPartirDe(cartas []Carta) *Baralho {\n",
    "\treturn &Baralho{cartas}\n",
    "}\n",
    "\n",
    "func (baralho Baralho) Fatiar(de, até int) *Baralho {\n",
    "\treturn BaralhoAPartirDe(baralho.cartas[de:até])\n",
    "}\n",
    "\n",
    "%%\n",
    "// Embaralhando antes de distribuir cartas\n",
    "rand.Shuffle(baralho.Len(), func(i, j int) {\n",
    "    tmp := baralho.NaPosição(i)\n",
    "    baralho.ColocarNaPosição(i, baralho.NaPosição(j))\n",
    "    baralho.ColocarNaPosição(j, tmp)\n",
    "})\n",
    "\n",
    "mão := baralho.Fatiar(0, 5)\n",
    "fmt.Printf(\"Tipo: %T\\n\", mão)\n",
    "for carta := range mão.Cartas() {\n",
    "    fmt.Println(carta)\n",
    "}"
   ]
  }
 ],
 "metadata": {
  "kernelspec": {
   "display_name": "Go (gonb)",
   "language": "go",
   "name": "gonb"
  },
  "language_info": {
   "codemirror_mode": "",
   "file_extension": ".go",
   "mimetype": "",
   "name": "go",
   "nbconvert_exporter": "",
   "pygments_lexer": "",
   "version": "go1.23.0"
  }
 },
 "nbformat": 4,
 "nbformat_minor": 5
}
